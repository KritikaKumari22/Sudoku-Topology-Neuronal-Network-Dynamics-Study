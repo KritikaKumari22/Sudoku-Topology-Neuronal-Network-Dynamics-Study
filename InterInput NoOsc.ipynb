{
 "cells": [
  {
   "cell_type": "code",
   "execution_count": 13,
   "id": "50a11b0c",
   "metadata": {},
   "outputs": [
    {
     "data": {
      "image/png": "[encoded data removed]",
      "text/plain": [
       "<Figure size 1080x216 with 1 Axes>"
      ]
     },
     "metadata": {
      "needs_background": "light"
     },
     "output_type": "display_data"
    }
   ],
   "source": [
    "import numpy as np\n",
    "import matplotlib.pyplot as plt\n",
    "\n",
    "#Inputs to generate plume\n",
    "argv=['9','598','22','2']\n",
    " \n",
    "#parameters for resolution and block size\n",
    "blocktime = 12000 # in ms\n",
    "sim_res = 1 # in ms\n",
    "min_block = 50 # in ms\n",
    "\n",
    "#Control over the fine-ness of plume layers\n",
    "def intermittent(argv): \n",
    "  np.random.seed(int(argv[1])+int(argv[2])+int(argv[3]))\n",
    "  switch_prob = 0.4\n",
    "  if switch_prob == 0.0:\n",
    "    sw_state = [1]\n",
    "  else:\n",
    "    sw_state = [0]\n",
    "\n",
    "#Generating the intitial string\n",
    "  flag_print=1\n",
    "  rand_string=np.random.choice([0,1],p=[1-switch_prob,switch_prob],size=int(blocktime/min_block)-1)\n",
    "\n",
    "#makes a random sequence of ones and zeros the shape of blocktime/min blocktime\n",
    "  for i in rand_string: \n",
    "    if flag_print==1:\n",
    "        flag_print=0\n",
    "    if i==1:\n",
    "        sw_state.append(1-sw_state[-1])\n",
    "    else:\n",
    "        sw_state.append(sw_state[-1])\n",
    "        \n",
    "  sw_state=np.pad(sw_state, (10, 10), 'constant', constant_values=(0, 0)) #add buffer of zeros to both ends of the string\n",
    "  ts = np.repeat(sw_state,int(min_block/sim_res)) #Expands the sequenc to get the turbulant fluid stream\n",
    "  ts= np.array(ts/10)\n",
    "  return ts\n",
    "\n",
    "argv=['98','5908798','2222222','2']\n",
    "ts = intermittent(argv)\n",
    "xAxis=np.arange(len(ts))\n",
    "plt.figure(figsize=(15,3))\n",
    "plt.plot(xAxis,ts, color='black')\n",
    "plt.show()"
   ]
  },
  {
   "cell_type": "code",
   "execution_count": 15,
   "id": "3c2efc9c",
   "metadata": {},
   "outputs": [],
   "source": [
    "from brian2 import *\n",
    "%matplotlib inline\n",
    "import numpy as np\n",
    "from numpy import heaviside\n",
    "from math import *\n",
    "import pandas as pd\n",
    "from numba import jit\n",
    "\n",
    "@jit\n",
    "# Potential function\n",
    "def U(phi,I=1.01,gamma=1,T=4.615120516841259, tau=1):\n",
    "    value = (I/gamma)*(1-np.exp(-gamma*T*phi/tau))\n",
    "    return value\n",
    "@jit\n",
    "# Function to convert potential to 'phase' corresponding to Mirollo-Strogatz model\n",
    "def U_inv(y,I=1.01,gamma=1,T=4.615120516841259,tau=1):\n",
    "    value = (tau/(gamma*T))*np.log((1-(gamma*y/I))**(-1))\n",
    "    return value\n",
    "## Loading Inhibitory and Excitatory Edge topology from a 81 × 81 Matrix specifying 20 connections for each neuron \n",
    "# Import Sudoku matrices: (rows: pre-synaptic, columns: post-synaptic)\n",
    "\n",
    "inhib_connect = np.loadtxt('Clueless_Sudoku_inhib.txt', dtype=int)\n",
    "excit_connect = np.loadtxt('Clueless_Sudoku_excit.txt', dtype=int)\n",
    "\n",
    "# Get tuples of corresponding connection indices for putting in Brian2's synapse connect() function\n",
    "inhib_pre, inhib_post = inhib_connect.nonzero()\n",
    "excit_pre, excit_post = excit_connect.nonzero()"
   ]
  },
  {
   "cell_type": "code",
   "execution_count": null,
   "id": "57ea5b1a",
   "metadata": {},
   "outputs": [],
   "source": []
  }
 ],
 "metadata": {
  "kernelspec": {
   "display_name": "Python 3 (ipykernel)",
   "language": "python",
   "name": "python3"
  },
  "language_info": {
   "codemirror_mode": {
    "name": "ipython",
    "version": 3
   },
   "file_extension": ".py",
   "mimetype": "text/x-python",
   "name": "python",
   "nbconvert_exporter": "python",
   "pygments_lexer": "ipython3",
   "version": "3.9.7"
  }
 },
 "nbformat": 4,
 "nbformat_minor": 5
}
