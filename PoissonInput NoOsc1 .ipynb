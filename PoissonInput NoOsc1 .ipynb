{
 "cells": [
  {
   "cell_type": "code",
   "execution_count": 6,
   "id": "e198c881",
   "metadata": {},
   "outputs": [],
   "source": [
    "\n",
    "import os\n",
    "script_dir = os.path.dirname('Intermittent with DC Drive.ipynb')\n",
    "results_dir = os.path.join(script_dir, 'Only PI_Results/')\n",
    "\n",
    "if not os.path.isdir(results_dir):\n",
    "    os.makedirs(results_dir)"
   ]
  },
  {
   "cell_type": "code",
   "execution_count": 9,
   "id": "3790b24e",
   "metadata": {},
   "outputs": [
    {
     "ename": "AttributeError",
     "evalue": "module 'sympy' has no attribute 'functions'",
     "output_type": "error",
     "traceback": [
      "\u001b[1;31m---------------------------------------------------------------------------\u001b[0m",
      "\u001b[1;31mAttributeError\u001b[0m                            Traceback (most recent call last)",
      "\u001b[1;32mC:\\Users\\KRITIK~1\\AppData\\Local\\Temp/ipykernel_19196/270801768.py\u001b[0m in \u001b[0;36m<module>\u001b[1;34m\u001b[0m\n\u001b[1;32m----> 1\u001b[1;33m \u001b[1;32mfrom\u001b[0m \u001b[0mbrian2\u001b[0m \u001b[1;32mimport\u001b[0m \u001b[1;33m*\u001b[0m\u001b[1;33m\u001b[0m\u001b[1;33m\u001b[0m\u001b[0m\n\u001b[0m\u001b[0;32m      2\u001b[0m \u001b[0mget_ipython\u001b[0m\u001b[1;33m(\u001b[0m\u001b[1;33m)\u001b[0m\u001b[1;33m.\u001b[0m\u001b[0mrun_line_magic\u001b[0m\u001b[1;33m(\u001b[0m\u001b[1;34m'matplotlib'\u001b[0m\u001b[1;33m,\u001b[0m \u001b[1;34m'inline'\u001b[0m\u001b[1;33m)\u001b[0m\u001b[1;33m\u001b[0m\u001b[1;33m\u001b[0m\u001b[0m\n\u001b[0;32m      3\u001b[0m \u001b[1;32mimport\u001b[0m \u001b[0mnumpy\u001b[0m \u001b[1;32mas\u001b[0m \u001b[0mnp\u001b[0m\u001b[1;33m\u001b[0m\u001b[1;33m\u001b[0m\u001b[0m\n\u001b[0;32m      4\u001b[0m \u001b[1;32mfrom\u001b[0m \u001b[0mnumpy\u001b[0m \u001b[1;32mimport\u001b[0m \u001b[0mheaviside\u001b[0m\u001b[1;33m\u001b[0m\u001b[1;33m\u001b[0m\u001b[0m\n\u001b[0;32m      5\u001b[0m \u001b[1;32mfrom\u001b[0m \u001b[0mmath\u001b[0m \u001b[1;32mimport\u001b[0m \u001b[1;33m*\u001b[0m\u001b[1;33m\u001b[0m\u001b[1;33m\u001b[0m\u001b[0m\n",
      "\u001b[1;32m~\\anaconda3\\lib\\site-packages\\brian2\\__init__.py\u001b[0m in \u001b[0;36m<module>\u001b[1;34m\u001b[0m\n\u001b[0;32m     69\u001b[0m \u001b[0m__docformat__\u001b[0m \u001b[1;33m=\u001b[0m \u001b[1;34m\"restructuredtext en\"\u001b[0m\u001b[1;33m\u001b[0m\u001b[1;33m\u001b[0m\u001b[0m\n\u001b[0;32m     70\u001b[0m \u001b[1;33m\u001b[0m\u001b[0m\n\u001b[1;32m---> 71\u001b[1;33m \u001b[1;32mfrom\u001b[0m \u001b[0mbrian2\u001b[0m\u001b[1;33m.\u001b[0m\u001b[0monly\u001b[0m \u001b[1;32mimport\u001b[0m \u001b[1;33m*\u001b[0m\u001b[1;33m\u001b[0m\u001b[1;33m\u001b[0m\u001b[0m\n\u001b[0m\u001b[0;32m     72\u001b[0m \u001b[1;32mfrom\u001b[0m \u001b[0mbrian2\u001b[0m\u001b[1;33m.\u001b[0m\u001b[0monly\u001b[0m \u001b[1;32mimport\u001b[0m \u001b[0mtest\u001b[0m\u001b[1;33m\u001b[0m\u001b[1;33m\u001b[0m\u001b[0m\n\u001b[0;32m     73\u001b[0m \u001b[1;33m\u001b[0m\u001b[0m\n",
      "\u001b[1;32m~\\anaconda3\\lib\\site-packages\\brian2\\only.py\u001b[0m in \u001b[0;36m<module>\u001b[1;34m\u001b[0m\n\u001b[0;32m     20\u001b[0m \u001b[1;31m# The following packages only depend on something in the above set\u001b[0m\u001b[1;33m\u001b[0m\u001b[1;33m\u001b[0m\u001b[0m\n\u001b[0;32m     21\u001b[0m \u001b[1;32mfrom\u001b[0m \u001b[0mbrian2\u001b[0m\u001b[1;33m.\u001b[0m\u001b[0mcore\u001b[0m\u001b[1;33m.\u001b[0m\u001b[0mvariables\u001b[0m \u001b[1;32mimport\u001b[0m \u001b[0mlinked_var\u001b[0m\u001b[1;33m\u001b[0m\u001b[1;33m\u001b[0m\u001b[0m\n\u001b[1;32m---> 22\u001b[1;33m \u001b[1;32mfrom\u001b[0m \u001b[0mbrian2\u001b[0m\u001b[1;33m.\u001b[0m\u001b[0mcore\u001b[0m\u001b[1;33m.\u001b[0m\u001b[0mfunctions\u001b[0m \u001b[1;32mimport\u001b[0m \u001b[1;33m*\u001b[0m\u001b[1;33m\u001b[0m\u001b[1;33m\u001b[0m\u001b[0m\n\u001b[0m\u001b[0;32m     23\u001b[0m \u001b[1;32mfrom\u001b[0m \u001b[0mbrian2\u001b[0m\u001b[1;33m.\u001b[0m\u001b[0mcore\u001b[0m\u001b[1;33m.\u001b[0m\u001b[0mpreferences\u001b[0m \u001b[1;32mimport\u001b[0m \u001b[1;33m*\u001b[0m\u001b[1;33m\u001b[0m\u001b[1;33m\u001b[0m\u001b[0m\n\u001b[0;32m     24\u001b[0m \u001b[1;32mfrom\u001b[0m \u001b[0mbrian2\u001b[0m\u001b[1;33m.\u001b[0m\u001b[0mcore\u001b[0m\u001b[1;33m.\u001b[0m\u001b[0mclocks\u001b[0m \u001b[1;32mimport\u001b[0m \u001b[1;33m*\u001b[0m\u001b[1;33m\u001b[0m\u001b[1;33m\u001b[0m\u001b[0m\n",
      "\u001b[1;32m~\\anaconda3\\lib\\site-packages\\brian2\\core\\functions.py\u001b[0m in \u001b[0;36m<module>\u001b[1;34m\u001b[0m\n\u001b[0;32m    683\u001b[0m     \u001b[1;31m# numpy functions that have the same name in numpy and math.h\u001b[0m\u001b[1;33m\u001b[0m\u001b[1;33m\u001b[0m\u001b[0m\n\u001b[0;32m    684\u001b[0m     'cos': Function(unitsafe.cos,\n\u001b[1;32m--> 685\u001b[1;33m                     sympy_func=sympy.functions.elementary.trigonometric.cos),\n\u001b[0m\u001b[0;32m    686\u001b[0m     'sin': Function(unitsafe.sin,\n\u001b[0;32m    687\u001b[0m                     sympy_func=sympy.functions.elementary.trigonometric.sin),\n",
      "\u001b[1;31mAttributeError\u001b[0m: module 'sympy' has no attribute 'functions'"
     ]
    }
   ],
   "source": [
    "from brian2 import *\n",
    "%matplotlib inline\n",
    "import numpy as np\n",
    "from numpy import heaviside\n",
    "from math import *\n",
    "import pandas as pd\n",
    "from numba import jit\n",
    "from matplotlib import cm\n",
    "\n",
    "@jit\n",
    "# Potential function\n",
    "def U(phi,I=1.01,gamma=1,T=4.615120516841259, tau=1):\n",
    "    value = (I/gamma)*(1-np.exp(-gamma*T*phi/tau))\n",
    "    return value\n",
    "@jit\n",
    "# Function to convert potential to 'phase' corresponding to Mirollo-Strogatz model\n",
    "def U_inv(y,I=1.01,gamma=1,T=4.615120516841259,tau=1):\n",
    "    value = (tau/(gamma*T))*np.log((1-(gamma*y/I))**(-1))\n",
    "    return value\n",
    "## Loading Inhibitory and Excitatory Edge topology from a 81 × 81 Matrix specifying 20 connections for each neuron \n",
    "# Import Sudoku matrices: (rows: pre-synaptic, columns: post-synaptic)\n",
    "\n",
    "inhib_connect = np.loadtxt('Clueless_Sudoku_inhib.txt', dtype=int)\n",
    "excit_connect = np.loadtxt('Clueless_Sudoku_excit.txt', dtype=int)\n",
    "\n",
    "# Get tuples of corresponding connection indices for putting in Brian2's synapse connect() function\n",
    "inhib_pre, inhib_post = inhib_connect.nonzero()\n",
    "excit_pre, excit_post = excit_connect.nonzero()"
   ]
  },
  {
   "cell_type": "code",
   "execution_count": null,
   "id": "d6ddd9d7",
   "metadata": {},
   "outputs": [],
   "source": [
    "start_scope()\n",
    "N = 81                          # No. of neurons\n",
    "tau = 10*ms                     # Time constant of neuron\n",
    "#A_osc = 0.2                     # Oscillation amplitude #?\n",
    "freq = 25*Hz                    # Frequency of common oscillatory drive #?\n",
    "transm_delay = pow(10,-5)*ms    # Delay between firing and reception of pulse by post-synaptic neuron\n",
    "Ib_low = 0.58                   # Lower limit of bias current\n",
    "Ib_upp = 0.64                   # Upper limit of bias current\n",
    "Ib_val = [Ib_low + (Ib_upp-Ib_low)*( i/9.0 ) for i in range(9)]\n",
    "order_Ib = np.array([9,1,7,5,2,3,4,6,8]) \n",
    "#Ib_array = np.zeros(N,dtype=float)\n",
    "\n",
    "\n",
    "# Pulse strengths: inhibitory and excita tory\n",
    "C_inh = -2.7*pow(10,-1)\n",
    "C_exc = +2.8*pow(10,-6)\n",
    "\n",
    "eqs = '''\n",
    "dv/dt = (-v)/tau : 1\n",
    "phase = (freq*t) % 1.0 : 1\n",
    "'''\n",
    "# Create a neuron group 'G' following the above equation\n",
    "G = NeuronGroup(N, eqs, threshold='v>1', reset='v=0', method='euler')\n",
    "G.v = 'rand()' #?\n",
    "\n",
    "# Inhibitory synapses\n",
    "S_inhib = Synapses(G,G, on_pre='v_post += C_inh', delay=transm_delay)\n",
    "S_inhib.connect(i=inhib_pre, j=inhib_post)\n",
    "\n",
    "# Excitatory synapses\n",
    "S_excit = Synapses(G,G, on_pre='v_post += C_exc', delay=transm_delay)\n",
    "S_excit.connect(i=excit_pre, j=excit_post)\n",
    "\n",
    "P = PoissonInput(G, 'v', 1,10*Hz, weight=5)\n",
    "\n",
    "# Record of potential for all neurons\n",
    "potential = StateMonitor(G, 'v', record=True)\n",
    "# Record of oscillatory drive (common to all neurons)\n",
    "#osc = StateMonitor(G, \"I\", record=0)\n",
    "# Record of all spikesfiring_time.t/ms\n",
    "firing_time = SpikeMonitor(G, variables='phase')\n",
    "run(10000*ms)\n",
    "\n",
    "# Raster plot of firing\n",
    "# Plot firing from 'index1' no. of iterations before end\n",
    "\n",
    "figure(figsize=(25,10))\n",
    "title('Exc = +'+str(C_exc) + ', '+ 'Inh = ' + str(C_inh), fontsize=16)\n",
    "plot(firing_time.t/ms, firing_time.i,'.k',markersize=10)\n",
    "xlabel('Time (ms)', fontsize=16)\n",
    "ylabel('Neuron index', fontsize=16)\n",
    "show()"
   ]
  }
 ],
 "metadata": {
  "kernelspec": {
   "display_name": "Python 3 (ipykernel)",
   "language": "python",
   "name": "python3"
  },
  "language_info": {
   "codemirror_mode": {
    "name": "ipython",
    "version": 3
   },
   "file_extension": ".py",
   "mimetype": "text/x-python",
   "name": "python",
   "nbconvert_exporter": "python",
   "pygments_lexer": "ipython3",
   "version": "3.9.7"
  }
 },
 "nbformat": 4,
 "nbformat_minor": 5
}
